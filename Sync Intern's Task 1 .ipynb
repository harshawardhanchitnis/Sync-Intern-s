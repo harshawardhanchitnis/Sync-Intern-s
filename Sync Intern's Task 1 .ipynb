{
 "cells": [
  {
   "cell_type": "markdown",
   "id": "554c6444",
   "metadata": {},
   "source": [
    "# SYNC INTERN'S INTERNSHIP"
   ]
  },
  {
   "cell_type": "markdown",
   "id": "412d7e66",
   "metadata": {},
   "source": [
    "## NAME :- HARSHAWARDHAN CHITNIS \n",
    "## POSITION :- Machine Learning Intern"
   ]
  },
  {
   "cell_type": "markdown",
   "id": "c46bea3f",
   "metadata": {},
   "source": [
    "## TASK : 1\n",
    "## PROJECT NAME : CREATE A CHATBOT"
   ]
  },
  {
   "cell_type": "markdown",
   "id": "9779e8c3",
   "metadata": {},
   "source": [
    "# STARTING WITH THE PROJECT "
   ]
  },
  {
   "cell_type": "code",
   "execution_count": 1,
   "id": "7e724416",
   "metadata": {},
   "outputs": [
    {
     "data": {
      "text/plain": [
       "\"/Users/harshawardhanchitnis/Desktop/Sync Intern's Tasks/Task 1\""
      ]
     },
     "execution_count": 1,
     "metadata": {},
     "output_type": "execute_result"
    }
   ],
   "source": [
    "import os\n",
    "os.getcwd()"
   ]
  },
  {
   "cell_type": "code",
   "execution_count": 2,
   "id": "79d65bd9",
   "metadata": {},
   "outputs": [],
   "source": [
    "import pandas as pd\n",
    "import numpy as np\n",
    "from sklearn import metrics\n",
    "import matplotlib.pyplot as plt\n",
    "import seaborn as sns\n",
    "%matplotlib inline"
   ]
  },
  {
   "cell_type": "code",
   "execution_count": 3,
   "id": "a4576050",
   "metadata": {},
   "outputs": [],
   "source": [
    "import nltk\n",
    "from nltk.chat.util import Chat, reflections"
   ]
  },
  {
   "cell_type": "code",
   "execution_count": 4,
   "id": "dea9e09a",
   "metadata": {},
   "outputs": [],
   "source": [
    "pairs = [\n",
    "    [\n",
    "        r\"my name is (.*)| I am (.*)\",\n",
    "        [\"CHABOT:\\tHello %1\",]\n",
    "    ],\n",
    "    [\n",
    "        r\"what is your name?|name\",\n",
    "        [\"CHATBOT:\\tMy name is CHATBOT\\U0001f648\\n\\tWhat's your Name?\"]\n",
    "    ],\n",
    "    [\n",
    "        r\"how are you?|how you doing?|what's up?\",\n",
    "        [\"CHATBOT:\\tI'm doing good\\nCHATBOT: How about You ?\",\"CHATBOT:\\tI'm doing great\\n\\tHow about You ?\"]\n",
    "    ],\n",
    "    [\n",
    "        r\"Thanks|Thank you|thank u\",\n",
    "        [\"CHATBOT:\\tHehe\",\"CHATBOT:\\twelcome\", \"CHATBOT:\\talright\",\"CHATBOT:\\t\\U0001f607\"]\n",
    "    ],\n",
    "    [\n",
    "        r\"sorry\",\n",
    "        [\"CHATBOT:\\tIts alright\",\"CHATBOT:\\tIts OK, never mind\\U0001f917\"]\n",
    "    ],\n",
    "    [\n",
    "        r\"Do (.*) love me ?\",\n",
    "        [\"CHATBOT:\\tYes, I love you but as a friend \\U0001f643\"]\n",
    "    ],\n",
    "    [\n",
    "        r\"i am doing good|fine|good|great\",\n",
    "        [\"CHATBOT:\\tNice to hear that\",\"CHATBOT:\\tAlright :)\"]\n",
    "    ],\n",
    "    [\n",
    "        r\"hi|hey|hello\",\n",
    "        [\"CHATBOT:\\tHello\", \"CHATBOT:\\tHey there\",\"CHATBOT:\\thii\",\"CHATBOT:\\tHieeee\"]\n",
    "    ],\n",
    "    [\n",
    "        r\"what is (.*) age?|age\",\n",
    "        [\"CHATBOT:\\tI'm a computer program dude\\n\\tSeriously you are asking me this?\\U0001f644\"]\n",
    "    ],\n",
    "    [\n",
    "        r\"what do (.*) want ?\",\n",
    "        [\"CHATBOT:\\tMake me an offer I can't refuse\\U0001f61C\",]\n",
    "    ],\n",
    "    [\n",
    "        r\"who created (.*) ?\",\n",
    "        [\"CHATBOT:\\tMr. HARSHAWARDHAN has created me\\U0001f60E\"]\n",
    "    ],\n",
    "    [\n",
    "        r\"how is weather in (.*)?\",\n",
    "        [\"CHATBOT:\\tWeather in %1 is awesome like always\\U0001f929\",\"CHATBOT:\\tit's too cold here\\U0001f976\"]\n",
    "    ],\n",
    "    [\n",
    "        r\"i work in (.*)?\",\n",
    "        [\"CHATBOT:\\t%1?,I have not heard about it\",]\n",
    "    ],\n",
    "    [\n",
    "        r\"is there raining in (.*)| raining?\",\n",
    "        [\"CHATBOT:\\tNo rain since last week here in %2\",\"CHATBOT:\\tDamn its raining too much here in %2\"]\n",
    "    ],\n",
    "    [\n",
    "        r\"how is (.*) health\",\n",
    "        [\"CHATBOT:\\tI'm a computer program, so I'm always healthy \",]\n",
    "    ],\n",
    "    [\n",
    "        r\"what is (.*) favourite (sports|game)| favourite (sports|game)|(sports|game) ?\",\n",
    "        [\"CHATBOT:\\tI'm a very big fan of Cricket\", 'CHATBOT:\\tI love Cricket very much']\n",
    "    ],\n",
    "    [\n",
    "        r\"who is (.*) favourite (sportsperson|player) ?| favourite (sportsperson|player|sportperson)|(sportsperson|player|sportperson)\",\n",
    "        [\"CHATBOT:\\tVirat Kohli\",\"CHATBOT:\\tSachin Tendulkar\",\"CHATBOT:\\tMS Dhoni\"]\n",
    "    ],\n",
    "    [\n",
    "        r\"who is (.*) favourite (moviestar|actress)?| favourite (moviestar|actress)|(moviestar|actress)\",\n",
    "        [\"CHATBOT:Deepika Padukone\\t\"]\n",
    "    ],\n",
    "    [\n",
    "        r\"quit|bye|see you|c u\",\n",
    "        [\"CHATBOT:\\tBBye take care. See you soon :) \",\"CHATBOT:\\tIt was nice talking to you. See you soon :)\"]\n",
    "    ],\n",
    "]"
   ]
  },
  {
   "cell_type": "code",
   "execution_count": null,
   "id": "c41fa394",
   "metadata": {},
   "outputs": [
    {
     "name": "stdout",
     "output_type": "stream",
     "text": [
      "Hi, I'm Chatbot and I chat alot ;)\n",
      "Please type lowercase English language to start a conversation. Type quit to leave \n",
      ">hi\n",
      "CHATBOT:\tHieeee\n",
      ">how are you\n",
      "CHATBOT:\tI'm doing good\n",
      "CHATBOT: How about You ?\n",
      ">who created you?\n",
      "CHATBOT:\tMr. HARSHAWARDHAN has created me😎\n",
      ">what is your favourite sports\n",
      "CHATBOT:\tI love Cricket very much\n",
      ">who is your favourite sportsperson\n",
      "CHATBOT:\tSachin Tendulkar\n"
     ]
    }
   ],
   "source": [
    "def chatty():\n",
    "    print(\"Hi, I'm Chatbot and I chat alot ;)\\nPlease type lowercase English language to start a conversation. Type quit to leave \") #default message at the start\n",
    "    chat = Chat(pairs, reflections)\n",
    "    chat.converse()\n",
    "    print(\"\\n\")\n",
    "if __name__ == \"__main__\":\n",
    "    chatty()"
   ]
  },
  {
   "cell_type": "code",
   "execution_count": null,
   "id": "e2db1b07",
   "metadata": {},
   "outputs": [],
   "source": []
  }
 ],
 "metadata": {
  "kernelspec": {
   "display_name": "Python 3 (ipykernel)",
   "language": "python",
   "name": "python3"
  },
  "language_info": {
   "codemirror_mode": {
    "name": "ipython",
    "version": 3
   },
   "file_extension": ".py",
   "mimetype": "text/x-python",
   "name": "python",
   "nbconvert_exporter": "python",
   "pygments_lexer": "ipython3",
   "version": "3.9.12"
  }
 },
 "nbformat": 4,
 "nbformat_minor": 5
}
